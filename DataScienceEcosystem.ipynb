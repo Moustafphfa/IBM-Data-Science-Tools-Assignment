{
 "cells": [
  {
   "cell_type": "markdown",
   "id": "67d2d66e-80e1-4932-b22b-b8bbe182396f",
   "metadata": {},
   "source": [
    "# Data Science Tools and Ecosystem"
   ]
  },
  {
   "cell_type": "markdown",
   "id": "3b93970d-01d2-4306-b118-5cd871dc50c8",
   "metadata": {},
   "source": [
    "In this notebook, Data Science Tools and Ecosystem are summarized."
   ]
  },
  {
   "cell_type": "markdown",
   "id": "ef6250d6-476d-4fb4-a87b-eaf9a345c447",
   "metadata": {},
   "source": [
    "#### Some of the popular languages that Data Scientists use are:"
   ]
  },
  {
   "cell_type": "markdown",
   "id": "e387f042-2bda-4a35-85c6-8b4f15f25b1f",
   "metadata": {},
   "source": [
    "1. Python.\n",
    "2. R.\n",
    "3. Julia."
   ]
  },
  {
   "cell_type": "markdown",
   "id": "fa562b65-c07c-4bac-be05-e1100683497f",
   "metadata": {},
   "source": [
    "#### Some of the commonly used libraries used by Data Scientists include:"
   ]
  },
  {
   "cell_type": "markdown",
   "id": "667e0a86-fd56-4c3c-8511-a679ba228710",
   "metadata": {},
   "source": [
    "1. Pandas\n",
    "2. NumPy\n",
    "3. scikit-learn"
   ]
  },
  {
   "cell_type": "markdown",
   "id": "a87b2970-a9c0-4812-9130-9e1d09ae72bb",
   "metadata": {},
   "source": [
    "| Data Science Tools |\n",
    "|--------------------|\n",
    "| Anaconda           |\n",
    "| Jupyter Notebook   |\n",
    "| VS Code            |"
   ]
  },
  {
   "cell_type": "markdown",
   "id": "8f947e2f-84db-4a5b-a208-f1abc59a07ec",
   "metadata": {},
   "source": [
    "### Below are a few examples of evaluating arithmetic expressions in Python"
   ]
  },
  {
   "cell_type": "code",
   "execution_count": 8,
   "id": "ef57b174-95c3-4623-87c3-ab7f96367a91",
   "metadata": {},
   "outputs": [
    {
     "data": {
      "text/plain": [
       "17"
      ]
     },
     "execution_count": 8,
     "metadata": {},
     "output_type": "execute_result"
    }
   ],
   "source": [
    "# This a simple arithmetic expression to mutiply then add integers\n",
    "(3*4)+5"
   ]
  },
  {
   "cell_type": "code",
   "execution_count": 7,
   "id": "3cb029dc-d399-417d-95fa-f7c6cdde0d86",
   "metadata": {},
   "outputs": [
    {
     "data": {
      "text/plain": [
       "3.3333333333333335"
      ]
     },
     "execution_count": 7,
     "metadata": {},
     "output_type": "execute_result"
    }
   ],
   "source": [
    "# This will convert 200 minutes to hours by diving by 60\n",
    "Hour = 60\n",
    "Minute = 200\n",
    "Minute/Hour"
   ]
  },
  {
   "cell_type": "markdown",
   "id": "dcf6d141-012d-491a-aabe-78b86abf55d1",
   "metadata": {},
   "source": [
    "**Objectives:**\n",
    "* Python\n",
    "* R\n",
    "* Pandas\n",
    "* NumPy\n",
    "* scikit-learn"
   ]
  },
  {
   "cell_type": "markdown",
   "id": "5e4bb0e6-0d56-41e5-9131-8660a7093af7",
   "metadata": {},
   "source": [
    "## Author\n",
    "   Moustafa Elashwah"
   ]
  }
 ],
 "metadata": {
  "kernelspec": {
   "display_name": "Python 3 (ipykernel)",
   "language": "python",
   "name": "python3"
  },
  "language_info": {
   "codemirror_mode": {
    "name": "ipython",
    "version": 3
   },
   "file_extension": ".py",
   "mimetype": "text/x-python",
   "name": "python",
   "nbconvert_exporter": "python",
   "pygments_lexer": "ipython3",
   "version": "3.11.9"
  }
 },
 "nbformat": 4,
 "nbformat_minor": 5
}
